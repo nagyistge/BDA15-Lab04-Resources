{
 "metadata": {
  "name": "",
  "signature": "sha256:5af11797e35153b8f63602b40d93798c45786757f9e9e9126dae40fb6fb1030d"
 },
 "nbformat": 3,
 "nbformat_minor": 0,
 "worksheets": [
  {
   "cells": [
    {
     "cell_type": "markdown",
     "metadata": {},
     "source": [
      "# IPython notebook quick overview\n",
      "\n",
      "A **notebook** is comprised of **cells** that can hold different types of content (e.g., Python code, Markdown text).\n",
      "\n",
      "You interact with a notebook via two **modes**, determining whether your interaction affects a single cell's content, or the notebook stucture:\n",
      "* **Edit mode:** \n",
      "    - For cell-level interactions, e.g., entering/altering the content of a cell\n",
      "    - Indicated by a *green* cell border, and a pen icon at the right of the menu bar\n",
      "    - Enter by clicking in a cell, or hitting **Return**\n",
      "* **Command mode:**\n",
      "    - Indicated by a *gray* cell border, and no pen icon at the right of the menu bar\n",
      "    - For notebook-level interaction\n",
      "    - Enter by clicking outside cells, or **Ctrl-M**, or **Esc** when in Edit mode\n",
      "\n",
      "Help:\n",
      "* **Ctrl-M H** (i.e., type **H** in command mode): List keyboard shortcuts (also in **Help** menu)\n",
      "* **Help** menu accesses help for notebooks, Python, Markdown, and more\n",
      "\n",
      "Oft-used *Edit mode* keyboard shortcuts:\n",
      "* **Return (Enter)** is a normal \"newline;\" it does *not* execute the cell contents (as it would in a regular IPy session)\n",
      "* **Shift-Return** executes the code in a code cell, or renders Markdown in a Markdown cell, and moves to the next cell (same as the \"play\" button)\n",
      "* **Alt-Return** executes the code in the cell, creates a new cell below it, and moves to it\n",
      "* **Ctrl-Return** executes the code in the cell, but does not move to the next cell (or create a new one); use this for quick-and-dirty experimentation\n",
      "* **Ctrl-m h** displays a list of all keyboard shortcuts\n",
      "\n",
      "Oft-used *Command mode* keyboard shortcuts (also see buttons in the Toolbar):\n",
      "* **h**: Display list of commands with keyboard shortcuts\n",
      "* **up/down arrows**: Move between cells\n",
      "* **b**: Insert new cell **b**elow\n",
      "* **d d** (hit \"d\" twice): **D**elete selected cell\n",
      "* **i i** (hit \"i\" twice): **I**nterupt the Python session, e.g., to halt a long computation; also in the **Kernel** menu, or use the \"Stop\" button\n",
      "* **0 0** (hit \"0\" twice): Reset the Python session, e.g., for reloading edited modules (this loses values of all variables); also in the **Kernel** menu, or use the \"Cycle\" button\n",
      "* **Cmd-s** or **Ctrl-s**: Save the notebook (also just **s** if already in command mode); notebooks are autosaved at regular intervals\n",
      "\n",
      "Oft-used commands with no shortcuts:\n",
      "* **Cell>Run all**: Runs the whole notebook; this renumbers cells to be sequential\n",
      "* **Edit>Undo delete cell**: Restores the last-deleted cell\n",
      "* **File>Download as...**: Creates Python, HTML, or reST versions of the notebook\n",
      "* **Up/down arrow buttons** (in Toolbar): Move cell up or down, for re-ordering cells"
     ]
    },
    {
     "cell_type": "code",
     "collapsed": false,
     "input": [
      "print 'Hello, world!!!'"
     ],
     "language": "python",
     "metadata": {},
     "outputs": [
      {
       "output_type": "stream",
       "stream": "stdout",
       "text": [
        "Hello, world!!!\n"
       ]
      }
     ],
     "prompt_number": 18
    },
    {
     "cell_type": "code",
     "collapsed": false,
     "input": [
      "1+1"
     ],
     "language": "python",
     "metadata": {},
     "outputs": [
      {
       "metadata": {},
       "output_type": "pyout",
       "prompt_number": 19,
       "text": [
        "2"
       ]
      }
     ],
     "prompt_number": 19
    },
    {
     "cell_type": "code",
     "collapsed": false,
     "input": [
      "from os import system\n",
      "system('say Please stop, Dave')  # Mac only; Win/Linux needs pyttx module"
     ],
     "language": "python",
     "metadata": {},
     "outputs": [
      {
       "metadata": {},
       "output_type": "pyout",
       "prompt_number": 20,
       "text": [
        "0"
       ]
      }
     ],
     "prompt_number": 20
    },
    {
     "cell_type": "heading",
     "level": 1,
     "metadata": {},
     "source": [
      "This"
     ]
    },
    {
     "cell_type": "code",
     "collapsed": false,
     "input": [
      "import this"
     ],
     "language": "python",
     "metadata": {},
     "outputs": [],
     "prompt_number": 21
    },
    {
     "cell_type": "code",
     "collapsed": false,
     "input": [
      "import this"
     ],
     "language": "python",
     "metadata": {},
     "outputs": [],
     "prompt_number": 22
    },
    {
     "cell_type": "heading",
     "level": 1,
     "metadata": {},
     "source": [
      "Instrospection"
     ]
    },
    {
     "cell_type": "markdown",
     "metadata": {},
     "source": [
      "Python provides a variety of **introspection** tools; IPython provides shortcuts to some of them. E.g., to get basic info about an object, prefix its name by \"?\":"
     ]
    },
    {
     "cell_type": "code",
     "collapsed": false,
     "input": [
      "?this"
     ],
     "language": "python",
     "metadata": {},
     "outputs": [],
     "prompt_number": 23
    },
    {
     "cell_type": "markdown",
     "metadata": {},
     "source": [
      "For more detailed information, use \"??\"; if the object was loaded from a file, the source code will be displayed:"
     ]
    },
    {
     "cell_type": "code",
     "collapsed": false,
     "input": [
      "??this"
     ],
     "language": "python",
     "metadata": {},
     "outputs": [],
     "prompt_number": 24
    },
    {
     "cell_type": "markdown",
     "metadata": {},
     "source": [
      "Hmm, Tim Peters has a sense of humor!"
     ]
    },
    {
     "cell_type": "markdown",
     "metadata": {},
     "source": [
      "To find out what resources an object offers (functions, values, classes, methods), examine its dictionary/directory with \"dir()\":"
     ]
    },
    {
     "cell_type": "code",
     "collapsed": false,
     "input": [
      "import numpy as np"
     ],
     "language": "python",
     "metadata": {},
     "outputs": [],
     "prompt_number": 25
    },
    {
     "cell_type": "code",
     "collapsed": false,
     "input": [
      "dir(np)"
     ],
     "language": "python",
     "metadata": {},
     "outputs": [
      {
       "metadata": {},
       "output_type": "pyout",
       "prompt_number": 26,
       "text": [
        "['ALLOW_THREADS',\n",
        " 'BUFSIZE',\n",
        " 'CLIP',\n",
        " 'ComplexWarning',\n",
        " 'DataSource',\n",
        " 'ERR_CALL',\n",
        " 'ERR_DEFAULT',\n",
        " 'ERR_IGNORE',\n",
        " 'ERR_LOG',\n",
        " 'ERR_PRINT',\n",
        " 'ERR_RAISE',\n",
        " 'ERR_WARN',\n",
        " 'FLOATING_POINT_SUPPORT',\n",
        " 'FPE_DIVIDEBYZERO',\n",
        " 'FPE_INVALID',\n",
        " 'FPE_OVERFLOW',\n",
        " 'FPE_UNDERFLOW',\n",
        " 'False_',\n",
        " 'Inf',\n",
        " 'Infinity',\n",
        " 'MAXDIMS',\n",
        " 'MachAr',\n",
        " 'ModuleDeprecationWarning',\n",
        " 'NAN',\n",
        " 'NINF',\n",
        " 'NZERO',\n",
        " 'NaN',\n",
        " 'PINF',\n",
        " 'PZERO',\n",
        " 'PackageLoader',\n",
        " 'RAISE',\n",
        " 'RankWarning',\n",
        " 'SHIFT_DIVIDEBYZERO',\n",
        " 'SHIFT_INVALID',\n",
        " 'SHIFT_OVERFLOW',\n",
        " 'SHIFT_UNDERFLOW',\n",
        " 'ScalarType',\n",
        " 'Tester',\n",
        " 'True_',\n",
        " 'UFUNC_BUFSIZE_DEFAULT',\n",
        " 'UFUNC_PYVALS_NAME',\n",
        " 'VisibleDeprecationWarning',\n",
        " 'WRAP',\n",
        " '__NUMPY_SETUP__',\n",
        " '__all__',\n",
        " '__builtins__',\n",
        " '__config__',\n",
        " '__doc__',\n",
        " '__file__',\n",
        " '__git_revision__',\n",
        " '__name__',\n",
        " '__package__',\n",
        " '__path__',\n",
        " '__version__',\n",
        " '_import_tools',\n",
        " '_mat',\n",
        " 'abs',\n",
        " 'absolute',\n",
        " 'absolute_import',\n",
        " 'add',\n",
        " 'add_docstring',\n",
        " 'add_newdoc',\n",
        " 'add_newdoc_ufunc',\n",
        " 'add_newdocs',\n",
        " 'alen',\n",
        " 'all',\n",
        " 'allclose',\n",
        " 'alltrue',\n",
        " 'alterdot',\n",
        " 'amax',\n",
        " 'amin',\n",
        " 'angle',\n",
        " 'any',\n",
        " 'append',\n",
        " 'apply_along_axis',\n",
        " 'apply_over_axes',\n",
        " 'arange',\n",
        " 'arccos',\n",
        " 'arccosh',\n",
        " 'arcsin',\n",
        " 'arcsinh',\n",
        " 'arctan',\n",
        " 'arctan2',\n",
        " 'arctanh',\n",
        " 'argmax',\n",
        " 'argmin',\n",
        " 'argpartition',\n",
        " 'argsort',\n",
        " 'argwhere',\n",
        " 'around',\n",
        " 'array',\n",
        " 'array2string',\n",
        " 'array_equal',\n",
        " 'array_equiv',\n",
        " 'array_repr',\n",
        " 'array_split',\n",
        " 'array_str',\n",
        " 'asanyarray',\n",
        " 'asarray',\n",
        " 'asarray_chkfinite',\n",
        " 'ascontiguousarray',\n",
        " 'asfarray',\n",
        " 'asfortranarray',\n",
        " 'asmatrix',\n",
        " 'asscalar',\n",
        " 'atleast_1d',\n",
        " 'atleast_2d',\n",
        " 'atleast_3d',\n",
        " 'average',\n",
        " 'bartlett',\n",
        " 'base_repr',\n",
        " 'bench',\n",
        " 'binary_repr',\n",
        " 'bincount',\n",
        " 'bitwise_and',\n",
        " 'bitwise_not',\n",
        " 'bitwise_or',\n",
        " 'bitwise_xor',\n",
        " 'blackman',\n",
        " 'bmat',\n",
        " 'bool',\n",
        " 'bool8',\n",
        " 'bool_',\n",
        " 'broadcast',\n",
        " 'broadcast_arrays',\n",
        " 'busday_count',\n",
        " 'busday_offset',\n",
        " 'busdaycalendar',\n",
        " 'byte',\n",
        " 'byte_bounds',\n",
        " 'bytes_',\n",
        " 'c_',\n",
        " 'can_cast',\n",
        " 'cast',\n",
        " 'cdouble',\n",
        " 'ceil',\n",
        " 'cfloat',\n",
        " 'char',\n",
        " 'character',\n",
        " 'chararray',\n",
        " 'choose',\n",
        " 'clip',\n",
        " 'clongdouble',\n",
        " 'clongfloat',\n",
        " 'column_stack',\n",
        " 'common_type',\n",
        " 'compare_chararrays',\n",
        " 'compat',\n",
        " 'complex',\n",
        " 'complex128',\n",
        " 'complex256',\n",
        " 'complex64',\n",
        " 'complex_',\n",
        " 'complexfloating',\n",
        " 'compress',\n",
        " 'concatenate',\n",
        " 'conj',\n",
        " 'conjugate',\n",
        " 'convolve',\n",
        " 'copy',\n",
        " 'copysign',\n",
        " 'copyto',\n",
        " 'core',\n",
        " 'corrcoef',\n",
        " 'correlate',\n",
        " 'cos',\n",
        " 'cosh',\n",
        " 'count_nonzero',\n",
        " 'cov',\n",
        " 'cross',\n",
        " 'csingle',\n",
        " 'ctypeslib',\n",
        " 'cumprod',\n",
        " 'cumproduct',\n",
        " 'cumsum',\n",
        " 'datetime64',\n",
        " 'datetime_as_string',\n",
        " 'datetime_data',\n",
        " 'deg2rad',\n",
        " 'degrees',\n",
        " 'delete',\n",
        " 'deprecate',\n",
        " 'deprecate_with_doc',\n",
        " 'diag',\n",
        " 'diag_indices',\n",
        " 'diag_indices_from',\n",
        " 'diagflat',\n",
        " 'diagonal',\n",
        " 'diff',\n",
        " 'digitize',\n",
        " 'disp',\n",
        " 'divide',\n",
        " 'division',\n",
        " 'dot',\n",
        " 'double',\n",
        " 'dsplit',\n",
        " 'dstack',\n",
        " 'dtype',\n",
        " 'e',\n",
        " 'ediff1d',\n",
        " 'einsum',\n",
        " 'emath',\n",
        " 'empty',\n",
        " 'empty_like',\n",
        " 'equal',\n",
        " 'errstate',\n",
        " 'euler_gamma',\n",
        " 'exp',\n",
        " 'exp2',\n",
        " 'expand_dims',\n",
        " 'expm1',\n",
        " 'extract',\n",
        " 'eye',\n",
        " 'fabs',\n",
        " 'fastCopyAndTranspose',\n",
        " 'fft',\n",
        " 'fill_diagonal',\n",
        " 'find_common_type',\n",
        " 'finfo',\n",
        " 'fix',\n",
        " 'flatiter',\n",
        " 'flatnonzero',\n",
        " 'flexible',\n",
        " 'fliplr',\n",
        " 'flipud',\n",
        " 'float',\n",
        " 'float128',\n",
        " 'float16',\n",
        " 'float32',\n",
        " 'float64',\n",
        " 'float_',\n",
        " 'floating',\n",
        " 'floor',\n",
        " 'floor_divide',\n",
        " 'fmax',\n",
        " 'fmin',\n",
        " 'fmod',\n",
        " 'format_parser',\n",
        " 'frexp',\n",
        " 'frombuffer',\n",
        " 'fromfile',\n",
        " 'fromfunction',\n",
        " 'fromiter',\n",
        " 'frompyfunc',\n",
        " 'fromregex',\n",
        " 'fromstring',\n",
        " 'full',\n",
        " 'full_like',\n",
        " 'fv',\n",
        " 'generic',\n",
        " 'genfromtxt',\n",
        " 'get_array_wrap',\n",
        " 'get_include',\n",
        " 'get_printoptions',\n",
        " 'getbuffer',\n",
        " 'getbufsize',\n",
        " 'geterr',\n",
        " 'geterrcall',\n",
        " 'geterrobj',\n",
        " 'gradient',\n",
        " 'greater',\n",
        " 'greater_equal',\n",
        " 'half',\n",
        " 'hamming',\n",
        " 'hanning',\n",
        " 'histogram',\n",
        " 'histogram2d',\n",
        " 'histogramdd',\n",
        " 'hsplit',\n",
        " 'hstack',\n",
        " 'hypot',\n",
        " 'i0',\n",
        " 'identity',\n",
        " 'iinfo',\n",
        " 'imag',\n",
        " 'in1d',\n",
        " 'index_exp',\n",
        " 'indices',\n",
        " 'inexact',\n",
        " 'inf',\n",
        " 'info',\n",
        " 'infty',\n",
        " 'inner',\n",
        " 'insert',\n",
        " 'int',\n",
        " 'int0',\n",
        " 'int16',\n",
        " 'int32',\n",
        " 'int64',\n",
        " 'int8',\n",
        " 'int_',\n",
        " 'int_asbuffer',\n",
        " 'intc',\n",
        " 'integer',\n",
        " 'interp',\n",
        " 'intersect1d',\n",
        " 'intp',\n",
        " 'invert',\n",
        " 'ipmt',\n",
        " 'irr',\n",
        " 'is_busday',\n",
        " 'isclose',\n",
        " 'iscomplex',\n",
        " 'iscomplexobj',\n",
        " 'isfinite',\n",
        " 'isfortran',\n",
        " 'isinf',\n",
        " 'isnan',\n",
        " 'isneginf',\n",
        " 'isposinf',\n",
        " 'isreal',\n",
        " 'isrealobj',\n",
        " 'isscalar',\n",
        " 'issctype',\n",
        " 'issubclass_',\n",
        " 'issubdtype',\n",
        " 'issubsctype',\n",
        " 'iterable',\n",
        " 'ix_',\n",
        " 'kaiser',\n",
        " 'kron',\n",
        " 'ldexp',\n",
        " 'left_shift',\n",
        " 'less',\n",
        " 'less_equal',\n",
        " 'lexsort',\n",
        " 'lib',\n",
        " 'linalg',\n",
        " 'linspace',\n",
        " 'little_endian',\n",
        " 'load',\n",
        " 'loads',\n",
        " 'loadtxt',\n",
        " 'log',\n",
        " 'log10',\n",
        " 'log1p',\n",
        " 'log2',\n",
        " 'logaddexp',\n",
        " 'logaddexp2',\n",
        " 'logical_and',\n",
        " 'logical_not',\n",
        " 'logical_or',\n",
        " 'logical_xor',\n",
        " 'logspace',\n",
        " 'long',\n",
        " 'longcomplex',\n",
        " 'longdouble',\n",
        " 'longfloat',\n",
        " 'longlong',\n",
        " 'lookfor',\n",
        " 'ma',\n",
        " 'mafromtxt',\n",
        " 'mask_indices',\n",
        " 'mat',\n",
        " 'math',\n",
        " 'matrix',\n",
        " 'matrixlib',\n",
        " 'max',\n",
        " 'maximum',\n",
        " 'maximum_sctype',\n",
        " 'may_share_memory',\n",
        " 'mean',\n",
        " 'median',\n",
        " 'memmap',\n",
        " 'meshgrid',\n",
        " 'mgrid',\n",
        " 'min',\n",
        " 'min_scalar_type',\n",
        " 'minimum',\n",
        " 'mintypecode',\n",
        " 'mirr',\n",
        " 'mod',\n",
        " 'modf',\n",
        " 'msort',\n",
        " 'multiply',\n",
        " 'nan',\n",
        " 'nan_to_num',\n",
        " 'nanargmax',\n",
        " 'nanargmin',\n",
        " 'nanmax',\n",
        " 'nanmean',\n",
        " 'nanmedian',\n",
        " 'nanmin',\n",
        " 'nanpercentile',\n",
        " 'nanstd',\n",
        " 'nansum',\n",
        " 'nanvar',\n",
        " 'nbytes',\n",
        " 'ndarray',\n",
        " 'ndenumerate',\n",
        " 'ndfromtxt',\n",
        " 'ndim',\n",
        " 'ndindex',\n",
        " 'nditer',\n",
        " 'negative',\n",
        " 'nested_iters',\n",
        " 'newaxis',\n",
        " 'newbuffer',\n",
        " 'nextafter',\n",
        " 'nonzero',\n",
        " 'not_equal',\n",
        " 'nper',\n",
        " 'npv',\n",
        " 'numarray',\n",
        " 'number',\n",
        " 'obj2sctype',\n",
        " 'object',\n",
        " 'object0',\n",
        " 'object_',\n",
        " 'ogrid',\n",
        " 'oldnumeric',\n",
        " 'ones',\n",
        " 'ones_like',\n",
        " 'outer',\n",
        " 'packbits',\n",
        " 'pad',\n",
        " 'partition',\n",
        " 'percentile',\n",
        " 'pi',\n",
        " 'piecewise',\n",
        " 'pkgload',\n",
        " 'place',\n",
        " 'pmt',\n",
        " 'poly',\n",
        " 'poly1d',\n",
        " 'polyadd',\n",
        " 'polyder',\n",
        " 'polydiv',\n",
        " 'polyfit',\n",
        " 'polyint',\n",
        " 'polymul',\n",
        " 'polynomial',\n",
        " 'polysub',\n",
        " 'polyval',\n",
        " 'power',\n",
        " 'ppmt',\n",
        " 'print_function',\n",
        " 'prod',\n",
        " 'product',\n",
        " 'promote_types',\n",
        " 'ptp',\n",
        " 'put',\n",
        " 'putmask',\n",
        " 'pv',\n",
        " 'r_',\n",
        " 'rad2deg',\n",
        " 'radians',\n",
        " 'random',\n",
        " 'rank',\n",
        " 'rate',\n",
        " 'ravel',\n",
        " 'ravel_multi_index',\n",
        " 'real',\n",
        " 'real_if_close',\n",
        " 'rec',\n",
        " 'recarray',\n",
        " 'recfromcsv',\n",
        " 'recfromtxt',\n",
        " 'reciprocal',\n",
        " 'record',\n",
        " 'remainder',\n",
        " 'repeat',\n",
        " 'require',\n",
        " 'reshape',\n",
        " 'resize',\n",
        " 'restoredot',\n",
        " 'result_type',\n",
        " 'right_shift',\n",
        " 'rint',\n",
        " 'roll',\n",
        " 'rollaxis',\n",
        " 'roots',\n",
        " 'rot90',\n",
        " 'round',\n",
        " 'round_',\n",
        " 'row_stack',\n",
        " 's_',\n",
        " 'safe_eval',\n",
        " 'save',\n",
        " 'savetxt',\n",
        " 'savez',\n",
        " 'savez_compressed',\n",
        " 'sctype2char',\n",
        " 'sctypeDict',\n",
        " 'sctypeNA',\n",
        " 'sctypes',\n",
        " 'searchsorted',\n",
        " 'select',\n",
        " 'set_numeric_ops',\n",
        " 'set_printoptions',\n",
        " 'set_string_function',\n",
        " 'setbufsize',\n",
        " 'setdiff1d',\n",
        " 'seterr',\n",
        " 'seterrcall',\n",
        " 'seterrobj',\n",
        " 'setxor1d',\n",
        " 'shape',\n",
        " 'short',\n",
        " 'show_config',\n",
        " 'sign',\n",
        " 'signbit',\n",
        " 'signedinteger',\n",
        " 'sin',\n",
        " 'sinc',\n",
        " 'single',\n",
        " 'singlecomplex',\n",
        " 'sinh',\n",
        " 'size',\n",
        " 'sometrue',\n",
        " 'sort',\n",
        " 'sort_complex',\n",
        " 'source',\n",
        " 'spacing',\n",
        " 'split',\n",
        " 'sqrt',\n",
        " 'square',\n",
        " 'squeeze',\n",
        " 'std',\n",
        " 'str',\n",
        " 'str_',\n",
        " 'string0',\n",
        " 'string_',\n",
        " 'subtract',\n",
        " 'sum',\n",
        " 'swapaxes',\n",
        " 'sys',\n",
        " 'take',\n",
        " 'tan',\n",
        " 'tanh',\n",
        " 'tensordot',\n",
        " 'test',\n",
        " 'testing',\n",
        " 'tile',\n",
        " 'timedelta64',\n",
        " 'trace',\n",
        " 'transpose',\n",
        " 'trapz',\n",
        " 'tri',\n",
        " 'tril',\n",
        " 'tril_indices',\n",
        " 'tril_indices_from',\n",
        " 'trim_zeros',\n",
        " 'triu',\n",
        " 'triu_indices',\n",
        " 'triu_indices_from',\n",
        " 'true_divide',\n",
        " 'trunc',\n",
        " 'typeDict',\n",
        " 'typeNA',\n",
        " 'typecodes',\n",
        " 'typename',\n",
        " 'ubyte',\n",
        " 'ufunc',\n",
        " 'uint',\n",
        " 'uint0',\n",
        " 'uint16',\n",
        " 'uint32',\n",
        " 'uint64',\n",
        " 'uint8',\n",
        " 'uintc',\n",
        " 'uintp',\n",
        " 'ulonglong',\n",
        " 'unicode',\n",
        " 'unicode0',\n",
        " 'unicode_',\n",
        " 'union1d',\n",
        " 'unique',\n",
        " 'unpackbits',\n",
        " 'unravel_index',\n",
        " 'unsignedinteger',\n",
        " 'unwrap',\n",
        " 'ushort',\n",
        " 'vander',\n",
        " 'var',\n",
        " 'vdot',\n",
        " 'vectorize',\n",
        " 'version',\n",
        " 'void',\n",
        " 'void0',\n",
        " 'vsplit',\n",
        " 'vstack',\n",
        " 'warnings',\n",
        " 'where',\n",
        " 'who',\n",
        " 'zeros',\n",
        " 'zeros_like']"
       ]
      }
     ],
     "prompt_number": 26
    },
    {
     "cell_type": "markdown",
     "metadata": {},
     "source": [
      "In Python, pretty much everything is an object and has a directory of attributes (names accessing different resources associated with the object):"
     ]
    },
    {
     "cell_type": "code",
     "collapsed": false,
     "input": [
      "dir(1)"
     ],
     "language": "python",
     "metadata": {},
     "outputs": [
      {
       "metadata": {},
       "output_type": "pyout",
       "prompt_number": 27,
       "text": [
        "['__abs__',\n",
        " '__add__',\n",
        " '__and__',\n",
        " '__class__',\n",
        " '__cmp__',\n",
        " '__coerce__',\n",
        " '__delattr__',\n",
        " '__div__',\n",
        " '__divmod__',\n",
        " '__doc__',\n",
        " '__float__',\n",
        " '__floordiv__',\n",
        " '__format__',\n",
        " '__getattribute__',\n",
        " '__getnewargs__',\n",
        " '__hash__',\n",
        " '__hex__',\n",
        " '__index__',\n",
        " '__init__',\n",
        " '__int__',\n",
        " '__invert__',\n",
        " '__long__',\n",
        " '__lshift__',\n",
        " '__mod__',\n",
        " '__mul__',\n",
        " '__neg__',\n",
        " '__new__',\n",
        " '__nonzero__',\n",
        " '__oct__',\n",
        " '__or__',\n",
        " '__pos__',\n",
        " '__pow__',\n",
        " '__radd__',\n",
        " '__rand__',\n",
        " '__rdiv__',\n",
        " '__rdivmod__',\n",
        " '__reduce__',\n",
        " '__reduce_ex__',\n",
        " '__repr__',\n",
        " '__rfloordiv__',\n",
        " '__rlshift__',\n",
        " '__rmod__',\n",
        " '__rmul__',\n",
        " '__ror__',\n",
        " '__rpow__',\n",
        " '__rrshift__',\n",
        " '__rshift__',\n",
        " '__rsub__',\n",
        " '__rtruediv__',\n",
        " '__rxor__',\n",
        " '__setattr__',\n",
        " '__sizeof__',\n",
        " '__str__',\n",
        " '__sub__',\n",
        " '__subclasshook__',\n",
        " '__truediv__',\n",
        " '__trunc__',\n",
        " '__xor__',\n",
        " 'bit_length',\n",
        " 'conjugate',\n",
        " 'denominator',\n",
        " 'imag',\n",
        " 'numerator',\n",
        " 'real']"
       ]
      }
     ],
     "prompt_number": 27
    },
    {
     "cell_type": "heading",
     "level": 1,
     "metadata": {},
     "source": [
      "Variables are labels, not containers"
     ]
    },
    {
     "cell_type": "code",
     "collapsed": false,
     "input": [
      "a = 1; b = 1  # two statements on the same line via \";\""
     ],
     "language": "python",
     "metadata": {},
     "outputs": [],
     "prompt_number": 28
    },
    {
     "cell_type": "code",
     "collapsed": false,
     "input": [
      "a, b  # makes a tuple (even without parens)"
     ],
     "language": "python",
     "metadata": {},
     "outputs": [
      {
       "metadata": {},
       "output_type": "pyout",
       "prompt_number": 29,
       "text": [
        "(1, 1)"
       ]
      }
     ],
     "prompt_number": 29
    },
    {
     "cell_type": "code",
     "collapsed": false,
     "input": [
      "id(a), id(b)  # returns address of object in memory"
     ],
     "language": "python",
     "metadata": {},
     "outputs": [
      {
       "metadata": {},
       "output_type": "pyout",
       "prompt_number": 30,
       "text": [
        "(4300231912, 4300231912)"
       ]
      }
     ],
     "prompt_number": 30
    },
    {
     "cell_type": "code",
     "collapsed": false,
     "input": [
      "id(a) == id(b)  # this is an optimization for small ints "
     ],
     "language": "python",
     "metadata": {},
     "outputs": [
      {
       "metadata": {},
       "output_type": "pyout",
       "prompt_number": 31,
       "text": [
        "True"
       ]
      }
     ],
     "prompt_number": 31
    },
    {
     "cell_type": "code",
     "collapsed": false,
     "input": [
      "b = 2"
     ],
     "language": "python",
     "metadata": {},
     "outputs": [],
     "prompt_number": 32
    },
    {
     "cell_type": "code",
     "collapsed": false,
     "input": [
      "a, b"
     ],
     "language": "python",
     "metadata": {},
     "outputs": [
      {
       "metadata": {},
       "output_type": "pyout",
       "prompt_number": 33,
       "text": [
        "(1, 2)"
       ]
      }
     ],
     "prompt_number": 33
    },
    {
     "cell_type": "code",
     "collapsed": false,
     "input": [
      "a = [0, 1, 2]\n",
      "b = a"
     ],
     "language": "python",
     "metadata": {},
     "outputs": [],
     "prompt_number": 34
    },
    {
     "cell_type": "code",
     "collapsed": false,
     "input": [
      "a, b"
     ],
     "language": "python",
     "metadata": {},
     "outputs": [
      {
       "metadata": {},
       "output_type": "pyout",
       "prompt_number": 35,
       "text": [
        "([0, 1, 2], [0, 1, 2])"
       ]
      }
     ],
     "prompt_number": 35
    },
    {
     "cell_type": "code",
     "collapsed": false,
     "input": [
      "b = [3, 4, 5]"
     ],
     "language": "python",
     "metadata": {},
     "outputs": [],
     "prompt_number": 36
    },
    {
     "cell_type": "code",
     "collapsed": false,
     "input": [
      "a,b"
     ],
     "language": "python",
     "metadata": {},
     "outputs": [
      {
       "metadata": {},
       "output_type": "pyout",
       "prompt_number": 37,
       "text": [
        "([0, 1, 2], [3, 4, 5])"
       ]
      }
     ],
     "prompt_number": 37
    },
    {
     "cell_type": "code",
     "collapsed": false,
     "input": [
      "b = a"
     ],
     "language": "python",
     "metadata": {},
     "outputs": [],
     "prompt_number": 38
    },
    {
     "cell_type": "code",
     "collapsed": false,
     "input": [
      "b[1] = 10  # assigning to a slice tries to change the target"
     ],
     "language": "python",
     "metadata": {},
     "outputs": [],
     "prompt_number": 39
    },
    {
     "cell_type": "code",
     "collapsed": false,
     "input": [
      "a, b"
     ],
     "language": "python",
     "metadata": {},
     "outputs": [
      {
       "metadata": {},
       "output_type": "pyout",
       "prompt_number": 40,
       "text": [
        "([0, 10, 2], [0, 10, 2])"
       ]
      }
     ],
     "prompt_number": 40
    },
    {
     "cell_type": "code",
     "collapsed": false,
     "input": [
      "b = a[:]  # for a list, slicing generates a copy\n",
      "c = list(a)  # make the sequence 'a' into a new list"
     ],
     "language": "python",
     "metadata": {},
     "outputs": [],
     "prompt_number": 41
    },
    {
     "cell_type": "code",
     "collapsed": false,
     "input": [
      "b[1] = 11; c[1] = 12\n",
      "a, b, c"
     ],
     "language": "python",
     "metadata": {},
     "outputs": [
      {
       "metadata": {},
       "output_type": "pyout",
       "prompt_number": 42,
       "text": [
        "([0, 10, 2], [0, 11, 2], [0, 12, 2])"
       ]
      }
     ],
     "prompt_number": 42
    },
    {
     "cell_type": "code",
     "collapsed": false,
     "input": [
      "import copy  # module for copying arbitrary objects\n",
      "d = copy.copy(a)  # a \"shallow\" copy of a\n",
      "d[1] = -3\n",
      "a, d"
     ],
     "language": "python",
     "metadata": {},
     "outputs": [
      {
       "metadata": {},
       "output_type": "pyout",
       "prompt_number": 43,
       "text": [
        "([0, 10, 2], [0, -3, 2])"
       ]
      }
     ],
     "prompt_number": 43
    },
    {
     "cell_type": "heading",
     "level": 1,
     "metadata": {},
     "source": [
      "NumPy arrays vs. lists"
     ]
    },
    {
     "cell_type": "code",
     "collapsed": false,
     "input": [
      "from numpy import *  # handy interactively; avoid in reusable modules\n",
      "a = array([0,1,2])"
     ],
     "language": "python",
     "metadata": {},
     "outputs": [],
     "prompt_number": 44
    },
    {
     "cell_type": "code",
     "collapsed": false,
     "input": [
      "b = a[:]  # for arrays, slicing creates a VIEW\n",
      "b[1] = 11\n",
      "a, b"
     ],
     "language": "python",
     "metadata": {},
     "outputs": [
      {
       "metadata": {},
       "output_type": "pyout",
       "prompt_number": 45,
       "text": [
        "(array([ 0, 11,  2]), array([ 0, 11,  2]))"
       ]
      }
     ],
     "prompt_number": 45
    },
    {
     "cell_type": "code",
     "collapsed": false,
     "input": [
      "b = a.copy()  # arrays have a copy() method\n",
      "b[1] = 12\n",
      "a, b"
     ],
     "language": "python",
     "metadata": {},
     "outputs": [
      {
       "metadata": {},
       "output_type": "pyout",
       "prompt_number": 46,
       "text": [
        "(array([ 0, 11,  2]), array([ 0, 12,  2]))"
       ]
      }
     ],
     "prompt_number": 46
    },
    {
     "cell_type": "heading",
     "level": 1,
     "metadata": {},
     "source": [
      "Objects: classes and instances"
     ]
    },
    {
     "cell_type": "markdown",
     "metadata": {},
     "source": [
      "An \"object\" is a data structure meant to represent something that has both **state** and **behavior**.\n",
      "\n",
      "Both the state and behavior are accessed via **attributes** of the object---names appended to the object's label with a dot separator:  *object.attribute*.\n",
      "\n",
      "There are two types of attributes:\n",
      "* **Data** implement state and are accessed simply by name:"
     ]
    },
    {
     "cell_type": "code",
     "collapsed": false,
     "input": [
      "a.shape  # returns a list of the dimensions of an array"
     ],
     "language": "python",
     "metadata": {},
     "outputs": [
      {
       "metadata": {},
       "output_type": "pyout",
       "prompt_number": 47,
       "text": [
        "(3,)"
       ]
      }
     ],
     "prompt_number": 47
    },
    {
     "cell_type": "code",
     "collapsed": false,
     "input": [
      "a.dtype"
     ],
     "language": "python",
     "metadata": {},
     "outputs": [
      {
       "metadata": {},
       "output_type": "pyout",
       "prompt_number": 48,
       "text": [
        "dtype('int64')"
       ]
      }
     ],
     "prompt_number": 48
    },
    {
     "cell_type": "markdown",
     "metadata": {},
     "source": [
      "* **Methods** implement behavior and are accessed much like a function call:"
     ]
    },
    {
     "cell_type": "code",
     "collapsed": false,
     "input": [
      "b.max()"
     ],
     "language": "python",
     "metadata": {},
     "outputs": [
      {
       "metadata": {},
       "output_type": "pyout",
       "prompt_number": 49,
       "text": [
        "12"
       ]
      }
     ],
     "prompt_number": 49
    },
    {
     "cell_type": "code",
     "collapsed": false,
     "input": [
      "a.dot(b)  # like a vector dot product"
     ],
     "language": "python",
     "metadata": {},
     "outputs": [
      {
       "metadata": {},
       "output_type": "pyout",
       "prompt_number": 50,
       "text": [
        "136"
       ]
      }
     ],
     "prompt_number": 50
    },
    {
     "cell_type": "markdown",
     "metadata": {},
     "source": [
      "A **class** is like a *template* for creating new objects with a specific set of data and method attributes."
     ]
    },
    {
     "cell_type": "code",
     "collapsed": false,
     "input": [
      "class NewClass:\n",
      "    \"\"\"\n",
      "    A simple container class that doesn't do much.\n",
      "    \n",
      "    Every class should have a docstring!\n",
      "    \"\"\"\n",
      "    \n",
      "    # \"Magic\" method names have \"__\" on each side and are\n",
      "    # automatically invoked under specific circumstances.\n",
      "    # __init__ is invoked to create an instance of the class.\n",
      "    \n",
      "    def __init__(self, a, b):\n",
      "        \"\"\"\n",
      "        Store two numerical values, and their product.\n",
      "        \"\"\"\n",
      "        self.a = a\n",
      "        self.b = b\n",
      "        self.ab = a*b\n",
      "    \n",
      "    def sum(self):\n",
      "        \"\"\"\n",
      "        Return the sum of the values.\n",
      "        \"\"\"\n",
      "        return self.a + self.b"
     ],
     "language": "python",
     "metadata": {},
     "outputs": [],
     "prompt_number": 51
    },
    {
     "cell_type": "code",
     "collapsed": false,
     "input": [
      "nc1 = NewClass(1,2)\n",
      "nc2 = NewClass(3,4)"
     ],
     "language": "python",
     "metadata": {},
     "outputs": [],
     "prompt_number": 52
    },
    {
     "cell_type": "code",
     "collapsed": false,
     "input": [
      "nc1.a, nc1.ab"
     ],
     "language": "python",
     "metadata": {},
     "outputs": [
      {
       "metadata": {},
       "output_type": "pyout",
       "prompt_number": 53,
       "text": [
        "(1, 2)"
       ]
      }
     ],
     "prompt_number": 53
    },
    {
     "cell_type": "code",
     "collapsed": false,
     "input": [
      "nc2.sum()"
     ],
     "language": "python",
     "metadata": {},
     "outputs": [
      {
       "metadata": {},
       "output_type": "pyout",
       "prompt_number": 54,
       "text": [
        "7"
       ]
      }
     ],
     "prompt_number": 54
    },
    {
     "cell_type": "markdown",
     "metadata": {},
     "source": [
      "Why **self**?\n",
      "\n",
      "The class keeps a single copy of the instructions defining the behavior (methods).\n",
      "\n",
      "**Instantiating** an object creates a unique chunk of memory for the data, but points back to the class for the methods.  *self* lets that (shared) code access the data for a particular instance.\n",
      "\n",
      "This is an example of \"explicit is better than implicit.\"  Other object-oriented languages sometimes adopt conventions letting you avoid *self*, but this can be a cause of bugs."
     ]
    }
   ],
   "metadata": {}
  }
 ]
}