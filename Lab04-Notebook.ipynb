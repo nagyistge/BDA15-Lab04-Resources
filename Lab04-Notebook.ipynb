{
 "metadata": {
  "name": "",
  "signature": "sha256:c56a5f9a9aa726bd428f609827fff11bf9cb58a6115dfd8c9e8ee652db9a83c1"
 },
 "nbformat": 3,
 "nbformat_minor": 0,
 "worksheets": [
  {
   "cells": [
    {
     "cell_type": "heading",
     "level": 1,
     "metadata": {},
     "source": [
      "Equations"
     ]
    },
    {
     "cell_type": "markdown",
     "metadata": {},
     "source": [
      "This Markdown cell has **equations**, written using [*LaTeX*](http://www.latex-project.org/) syntax and rendered in the browser using [*MathJax*](http://www.mathjax.org/) (which [the Cornell Library helped develop!](http://news.library.cornell.edu/news/110104/mathjax)).\n",
      "\n",
      "For help with LaTeX/MathJax math syntax, see:\n",
      "* A short (incomplete) [MathJax cheat sheet](https://slashschool.com/content/mathjax-cheatsheet)\n",
      "* A two-page [Quick guide to LaTeX](http://divisbyzero.com/2011/08/17/a-quick-guide-to-latex/) (PDF; useful mainly just for the list of symbols)\n",
      "* A [quick summary (via short examples) at the StackExchange MathematicsMeta site](http://meta.math.stackexchange.com/questions/5020/mathjax-basic-tutorial-and-quick-reference)\n",
      "* A [gentle intro the basics at FluidMind.org](http://fluidmind.org/articles/typesetting-equations/) (just go through the first three sections)\n",
      "* The *AMS Short Math Guide for LaTeX* (PDF file via FTE: ftp://ftp.ams.org/pub/tex/doc/amsmath/short-math-guide.pdf); note that not everything described here is implemented in MathJax\n",
      "* The Harvard math department hosts [An introduction to Using TeX](http://www.math.harvard.edu/texman/); for MathJax use, the \"Commands for Math Mode\" is most relevant\n",
      "\n",
      "Note that equation support is an *extension* to basic Markdown, and not fully standardized.  If you are using a standalone Markdown editor/previewer, or a different browser-based Markdown editor (such as [StackEdit](https://stackedit.io/)), be aware that there are different conventions for how to set off inline and displayed equations in extended Markdown:\n",
      "* [Survey of syntaxes for math in markdown](https://github.com/cben/mathdown/wiki/math-in-markdown)\n",
      "\n",
      "## Examples\n",
      "\n",
      "Here is *Bayes's theorem* for a posterior distribution over a set of hypotheses $\\{H_i\\}$ based on observed data $D$:\n",
      "$$\n",
      "p(H_i|D) = \\frac{p(H_i) p(D|H_i)}{p(D)} \\qquad ||~I.\n",
      "$$\n",
      "And, of course, the all-important *LTP*, where $\\{B_j\\}$ is a *suite*:\n",
      "$$\n",
      "p(H_i) = \\sum_j p(H_i,B_j) = \\sum_j p(B_j) p(H_i|B_j) \\qquad ||~I.\n",
      "$$\n",
      "And since it's so important, let's write the LTP with alignment (using the LaTeX *align* environment):\n",
      "\\begin{align}\n",
      "p(H_i)\n",
      "  &= \\sum_j p(H_i,B_j)\\\\\n",
      "  &= \\sum_j p(B_j) p(H_i|B_j) \\qquad ||~I.\n",
      "\\end{align}\n",
      "\n",
      "Finally, here's the *generalized beta integral*, from the lecture on categorical/multinomial inference (I'll use a *split* environment, so I can break the long equation):\n",
      "\\begin{split}\n",
      "\\int_0^\\infty d\\alpha_1 \\cdots \\int_0^\\infty d\\alpha_K\\;\n",
      "  & % ampersand indicates align here\n",
      "  \\alpha_1^{\\kappa_1-1}\\cdots\\alpha_K^{\\kappa_K-1} \\delta\\left(a-\\sum_k\\alpha_k\\right)\\\\  % split!\n",
      "  &= \\frac{\\Gamma(\\kappa_1)\\cdots\\Gamma(\\kappa_K)}{\\Gamma(\\kappa_0)}\\; a^{\\kappa-1}\n",
      "\\end{split}\n",
      "where $\\kappa_0 = \\sum_{k=1}^K \\kappa_k$."
     ]
    },
    {
     "cell_type": "heading",
     "level": 1,
     "metadata": {},
     "source": [
      "Tables"
     ]
    },
    {
     "cell_type": "markdown",
     "metadata": {},
     "source": [
      "This Markdown cell has a table.  To automatically generate nice-looking Markdown table markup, I used\n",
      "[TablesGenerator](http://www.tablesgenerator.com/markdown_tables).  This table could hold ingredients for calculating the posterior PMF for the Monty Hall problem:\n",
      "\n",
      "| Hypothesis | Prior | Likelihood | Prior $\\times$ Likelihood | Posterior |\n",
      "|------------|-------|------------|---------------------------|-----------|\n",
      "| A          |       |            |                           |           |\n",
      "| B          |       |            |                           |           |\n",
      "| C          |       |            |                           |           |\n",
      "| Sum        | 1     | NA         |                           |     1     |\n",
      "\n"
     ]
    },
    {
     "cell_type": "heading",
     "level": 1,
     "metadata": {},
     "source": [
      "A simple class:  Machine failure problem"
     ]
    },
    {
     "cell_type": "code",
     "collapsed": false,
     "input": [
      "%run MachineFailure.py"
     ],
     "language": "python",
     "metadata": {},
     "outputs": [
      {
       "output_type": "stream",
       "stream": "stdout",
       "text": [
        "D&S ex. 2.3.9, failure mode probability: 0.959976160192\n",
        "\n",
        "Lec05 example, 1 defect in 10: 0.182478401518\n",
        "Update to 1 in 50: 0.0049075896306\n",
        "All at once: 0.0049075896306\n"
       ]
      }
     ],
     "prompt_number": 1
    },
    {
     "cell_type": "code",
     "collapsed": false,
     "input": [
      "!nosetests MachineFailure.py"
     ],
     "language": "python",
     "metadata": {},
     "outputs": [
      {
       "output_type": "stream",
       "stream": "stdout",
       "text": [
        "...\r\n",
        "----------------------------------------------------------------------\r\n",
        "Ran 3 tests in 0.002s\r\n",
        "\r\n",
        "OK\r\n"
       ]
      }
     ],
     "prompt_number": 2
    },
    {
     "cell_type": "code",
     "collapsed": false,
     "input": [
      "mf = MachineFailure(.01, .4, .1)"
     ],
     "language": "python",
     "metadata": {},
     "outputs": [],
     "prompt_number": 3
    },
    {
     "cell_type": "code",
     "collapsed": false,
     "input": [
      "def const_freq_update(mf, f, N):\n",
      "    mf.update_data(N, int(f*N))\n",
      "    return mf.N, mf.p_failed()\n",
      "\n",
      "N_p = [const_freq_update(mf, .4, N) for N in [5, 5, 10, 20, 50, 100]]"
     ],
     "language": "python",
     "metadata": {},
     "outputs": [],
     "prompt_number": 4
    },
    {
     "cell_type": "code",
     "collapsed": false,
     "input": [
      "N_p = array(N_p)"
     ],
     "language": "python",
     "metadata": {},
     "outputs": [],
     "prompt_number": 5
    },
    {
     "cell_type": "code",
     "collapsed": false,
     "input": [
      "N_p"
     ],
     "language": "python",
     "metadata": {},
     "outputs": [
      {
       "metadata": {},
       "output_type": "pyout",
       "prompt_number": 6,
       "text": [
        "array([[   5.        ,    0.97535454],\n",
        "       [  10.        ,    0.99992906],\n",
        "       [  20.        ,    1.        ],\n",
        "       [  40.        ,    1.        ],\n",
        "       [  90.        ,    1.        ],\n",
        "       [ 190.        ,    1.        ]])"
       ]
      }
     ],
     "prompt_number": 6
    },
    {
     "cell_type": "code",
     "collapsed": false,
     "input": [
      "from matplotlib.pyplot import *\n",
      "%matplotlib inline"
     ],
     "language": "python",
     "metadata": {},
     "outputs": [],
     "prompt_number": 7
    },
    {
     "cell_type": "code",
     "collapsed": false,
     "input": [
      "plot(N_p[:,0], N_p[:,1], 'bo-')\n",
      "xlabel('N')\n",
      "ylabel(r'$p_{\\rm failed}$, const freq.')"
     ],
     "language": "python",
     "metadata": {},
     "outputs": [
      {
       "metadata": {},
       "output_type": "pyout",
       "prompt_number": 8,
       "text": [
        "<matplotlib.text.Text at 0x10678df90>"
       ]
      },
      {
       "metadata": {},
       "output_type": "display_data",
       "png": "[encoded data removed]",
       "text": [
        "<matplotlib.figure.Figure at 0x1067677d0>"
       ]
      }
     ],
     "prompt_number": 8
    },
    {
     "cell_type": "code",
     "collapsed": false,
     "input": [
      "mf = MachineFailure(.3, .4, .1)\n",
      "N_p = array([const_freq_update(mf, .4, N) for N in [5, 5, 10, 20, 50, 100]])"
     ],
     "language": "python",
     "metadata": {},
     "outputs": [],
     "prompt_number": 9
    },
    {
     "cell_type": "code",
     "collapsed": false,
     "input": [
      "N_p"
     ],
     "language": "python",
     "metadata": {},
     "outputs": [
      {
       "metadata": {},
       "output_type": "pyout",
       "prompt_number": 10,
       "text": [
        "array([[  5.00000000e+00,   1.10630942e-01],\n",
        "       [  1.00000000e+01,   1.22238553e-01],\n",
        "       [  2.00000000e+01,   1.48606043e-01],\n",
        "       [  4.00000000e+01,   2.15188743e-01],\n",
        "       [  9.00000000e+01,   4.58891335e-01],\n",
        "       [  1.90000000e+02,   8.90263498e-01]])"
       ]
      }
     ],
     "prompt_number": 10
    },
    {
     "cell_type": "code",
     "collapsed": false,
     "input": [
      "plot(N_p[:,0], N_p[:,1], 'bo-')\n",
      "xlabel('N')\n",
      "ylabel(r'$p_{\\rm failed}$, const freq.')"
     ],
     "language": "python",
     "metadata": {},
     "outputs": [
      {
       "metadata": {},
       "output_type": "pyout",
       "prompt_number": 11,
       "text": [
        "<matplotlib.text.Text at 0x1070be810>"
       ]
      },
      {
       "metadata": {},
       "output_type": "display_data",
       "png": "[encoded data removed]",
       "text": [
        "<matplotlib.figure.Figure at 0x10701edd0>"
       ]
      }
     ],
     "prompt_number": 11
    },
    {
     "cell_type": "code",
     "collapsed": false,
     "input": [],
     "language": "python",
     "metadata": {},
     "outputs": [],
     "prompt_number": 11
    }
   ],
   "metadata": {}
  }
 ]
}